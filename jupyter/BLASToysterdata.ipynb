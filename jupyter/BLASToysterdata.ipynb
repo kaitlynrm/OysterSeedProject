{
 "cells": [
  {
   "cell_type": "markdown",
   "metadata": {},
   "source": [
    "# Make Blast Database"
   ]
  },
  {
   "cell_type": "code",
   "execution_count": 3,
   "metadata": {
    "collapsed": false
   },
   "outputs": [
    {
     "name": "stdout",
     "output_type": "stream",
     "text": [
      "\n",
      "\n",
      "Building a new DB, current time: 04/20/2017 23:23:43\n",
      "New DB name:   C:/Users/Katty/Desktop/robertslab/labnotebook/databases/blastdb/uniprot_prot_001\n",
      "New DB title:  C:/Users/Katty/Desktop/robertslab/labnotebook/databases/blastdb/uniprot_sprot.fasta\n",
      "Sequence type: Protein\n",
      "Keep MBits: T\n",
      "Maximum file size: 1000000000B\n",
      "Adding sequences from FASTA; added 554241 sequences in 21.2408 seconds.\n"
     ]
    }
   ],
   "source": [
    "!makeblastdb \\\n",
    "-in \"C:/Users/Katty/Desktop/robertslab/labnotebook/databases/blastdb/uniprot_sprot.fasta\" \\\n",
    "-dbtype \"prot\" \\\n",
    "-out \"C:/Users/Katty/Desktop/robertslab/labnotebook/databases/blastdb/uniprot_prot_001\""
   ]
  },
  {
   "cell_type": "markdown",
   "metadata": {},
   "source": [
    "# Get Query Sequence"
   ]
  },
  {
   "cell_type": "code",
   "execution_count": 2,
   "metadata": {
    "collapsed": false
   },
   "outputs": [
    {
     "name": "stderr",
     "output_type": "stream",
     "text": [
      "'wget' is not recognized as an internal or external command,\n",
      "operable program or batch file.\n"
     ]
    }
   ],
   "source": [
    "!wget https://raw.githubusercontent.com/sr320/nb-2017/master/C_gigas/data/Cg_Gigaton_proteins.fa"
   ]
  },
  {
   "cell_type": "markdown",
   "metadata": {},
   "source": [
    "### wget is not currently downloaded (Windows). So instead I will use curl to download the file."
   ]
  },
  {
   "cell_type": "code",
   "execution_count": 27,
   "metadata": {
    "collapsed": false
   },
   "outputs": [
    {
     "name": "stderr",
     "output_type": "stream",
     "text": [
      "  % Total    % Received % Xferd  Average Speed   Time    Time     Time  Current\n",
      "                                 Dload  Upload   Total   Spent    Left  Speed\n",
      "\n",
      "  0     0    0     0    0     0      0      0 --:--:-- --:--:-- --:--:--     0\n",
      "  0     0    0     0    0     0      0      0 --:--:-- --:--:-- --:--:--     0\n",
      "  2 20.7M    2  480k    0     0   398k      0  0:00:53  0:00:01  0:00:52  398k\n",
      " 47 20.7M   47  9.9M    0     0  4595k      0  0:00:04  0:00:02  0:00:02 4595k\n",
      " 98 20.7M   98 20.4M    0     0  6528k      0  0:00:03  0:00:03 --:--:-- 6528k\n",
      "100 20.7M  100 20.7M    0     0  6633k      0  0:00:03  0:00:03 --:--:-- 6633k\n"
     ]
    }
   ],
   "source": [
    "!curl -O https://raw.githubusercontent.com/sr320/nb-2017/master/C_gigas/data/Cg_Gigaton_proteins.fa"
   ]
  },
  {
   "cell_type": "markdown",
   "metadata": {},
   "source": [
    "# Run Blast"
   ]
  },
  {
   "cell_type": "code",
   "execution_count": null,
   "metadata": {
    "collapsed": false
   },
   "outputs": [],
   "source": [
    "!\"C:\\Program Files\\NCBI\\blast-2.6.0+\\bin\\blastp\" \\\n",
    "-query \"C:/Users/Katty/Desktop/robertslab/labnotebook/data/Cg_Gigaton_proteins.fa\" \\\n",
    "-db \"C:/Users/Katty/Desktop/robertslab/labnotebook/databases/uniprot_prot_001\" \\\n",
    "-out \"C:/Users/Katty/Desktop/robertslab/labnotebook/analyses/Cg_Gigaton_proteins_002.txt\" \\\n",
    "-evalue 1E-20 \\\n",
    "-num_threads 4 \\\n",
    "-max_target_seqs 1 \\\n",
    "-max_hsps 1 \\\n",
    "-outfmt 6"
   ]
  },
  {
   "cell_type": "code",
   "execution_count": null,
   "metadata": {
    "collapsed": true
   },
   "outputs": [],
   "source": []
  }
 ],
 "metadata": {
  "kernelspec": {
   "display_name": "Python 3",
   "language": "python",
   "name": "python3"
  },
  "language_info": {
   "codemirror_mode": {
    "name": "ipython",
    "version": 3
   },
   "file_extension": ".py",
   "mimetype": "text/x-python",
   "name": "python",
   "nbconvert_exporter": "python",
   "pygments_lexer": "ipython3",
   "version": "3.6.0"
  }
 },
 "nbformat": 4,
 "nbformat_minor": 2
}
