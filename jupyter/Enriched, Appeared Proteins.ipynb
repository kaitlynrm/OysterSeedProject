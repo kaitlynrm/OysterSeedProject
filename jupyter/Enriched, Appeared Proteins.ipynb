{
 "cells": [
  {
   "cell_type": "markdown",
   "metadata": {},
   "source": [
    "# Unique Expression Identification and Enrichment\n",
    "\n",
    "Here I took the pacific oyster seed data and parsed it by silo, removing all proteins that had abundance greater than 0 on day 1 as competent larvae. Next I organized the data by range and eliminated all proteins that had 0 abundance throughout the experiment. Finally I used [CompGO](http://www.yeastrc.org/compgo_oyster/pages/goAnalysisForm.jsp) to look at biological processes based on gene richment of the protein list I identified. \n",
    "\n",
    "## Silo 2 (23C)\n",
    "\n",
    "![alternatetext](https://raw.githubusercontent.com/kaitlynrm/OysterSeedProject/master/Pictures/s2-unq_appear.JPG)\n",
    "\n",
    "\n",
    "##### [Silo 2 Table](https://github.com/kaitlynrm/OysterSeedProject/blob/master/unq-exp/silo2.csv)\n",
    "\n",
    "## Silo 3 (23C)\n",
    "\n",
    "![alternatetext](https://raw.githubusercontent.com/kaitlynrm/OysterSeedProject/master/Pictures/s3-unq_appear.JPG)\n",
    "\n",
    "##### [Silo 3 Table](https://github.com/kaitlynrm/OysterSeedProject/blob/master/unq-exp/silo3.csv)\n",
    "\n",
    "## Silo 9 (29C)\n",
    "\n",
    "![alternatetext](https://raw.githubusercontent.com/kaitlynrm/OysterSeedProject/master/Pictures/s9-unq_appear.JPG)\n",
    "\n",
    "##### [Silo 9 Table](https://github.com/kaitlynrm/OysterSeedProject/blob/master/unq-exp/silo9.csv)\n",
    "\n",
    "## Proteins with no GO terms....\n",
    "\n",
    "I think it is important to mention that many of the proteins that I identified as being unique did not have GO terms associated with them. Unfortunetly without an associated GO term, this protein is overlooked. This was very disappointing when you consider a protein such as 'CHOYP_ACT.5.27|m.15585' which had 0 abundance on all but 1 day where it had an abundance of 139.5 as seen below.\n",
    "\n",
    "![alternatetext](https://raw.githubusercontent.com/kaitlynrm/OysterSeedProject/master/Pictures/silo2-unqexp-xcl.JPG)\n",
    "\n"
   ]
  },
  {
   "cell_type": "code",
   "execution_count": null,
   "metadata": {
    "collapsed": true
   },
   "outputs": [],
   "source": []
  }
 ],
 "metadata": {
  "kernelspec": {
   "display_name": "Python 3",
   "language": "python",
   "name": "python3"
  },
  "language_info": {
   "codemirror_mode": {
    "name": "ipython",
    "version": 3
   },
   "file_extension": ".py",
   "mimetype": "text/x-python",
   "name": "python",
   "nbconvert_exporter": "python",
   "pygments_lexer": "ipython3",
   "version": "3.6.0"
  }
 },
 "nbformat": 4,
 "nbformat_minor": 2
}
