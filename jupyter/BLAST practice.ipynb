{
 "cells": [
  {
   "cell_type": "markdown",
   "metadata": {},
   "source": [
    "# Practicing BLAST in Jupyter"
   ]
  },
  {
   "cell_type": "code",
   "execution_count": 1,
   "metadata": {
    "collapsed": false,
    "scrolled": false
   },
   "outputs": [
    {
     "name": "stderr",
     "output_type": "stream",
     "text": [
      "BLAST query/options error: Either a BLAST database or subject sequence(s) must be specified\n",
      "Please refer to the BLAST+ user manual.\n"
     ]
    }
   ],
   "source": [
    "!\"C:\\Program Files\\NCBI\\blast-2.6.0+\\bin\\blastp\""
   ]
  },
  {
   "cell_type": "markdown",
   "metadata": {},
   "source": [
    "I need to specify the file I'm using here."
   ]
  },
  {
   "cell_type": "code",
   "execution_count": 2,
   "metadata": {
    "collapsed": false
   },
   "outputs": [
    {
     "name": "stderr",
     "output_type": "stream",
     "text": [
      "Command line argument error: Argument \"query\". File is not accessible:  `proteins.fasta'\n"
     ]
    }
   ],
   "source": [
    "!blastp -query proteins.fasta -db db/pdbaa -out proteins_blastp.txt"
   ]
  },
  {
   "cell_type": "markdown",
   "metadata": {},
   "source": [
    "I need to specify the absolute path."
   ]
  },
  {
   "cell_type": "code",
   "execution_count": 3,
   "metadata": {
    "collapsed": false
   },
   "outputs": [
    {
     "ename": "SyntaxError",
     "evalue": "unexpected character after line continuation character (<ipython-input-3-3816578fb1d4>, line 1)",
     "output_type": "error",
     "traceback": [
      "\u001b[0;36m  File \u001b[0;32m\"<ipython-input-3-3816578fb1d4>\"\u001b[0;36m, line \u001b[0;32m1\u001b[0m\n\u001b[0;31m    C:\\Program Files\\NCBI\\blast-2.6.0+\\bin\\blastp -query C:/Users/Katty/blastplus/proteins.fasta -db C:/Users/Katty/blastplus/db/pdbaa -out C:\\Users\\Katty\\Documents\\Roberts Lab\\Oyster\\proteins_blastp.txt\u001b[0m\n\u001b[0m                                                                                                                                                                                                           ^\u001b[0m\n\u001b[0;31mSyntaxError\u001b[0m\u001b[0;31m:\u001b[0m unexpected character after line continuation character\n"
     ]
    }
   ],
   "source": [
    "C:\\Program Files\\NCBI\\blast-2.6.0+\\bin\\blastp -query C:/Users/Katty/blastplus/proteins.fasta -db C:/Users/Katty/blastplus/db/pdbaa -out C:\\Users\\Katty\\Documents\\Roberts Lab\\Oyster\\proteins_blastp.txt"
   ]
  },
  {
   "cell_type": "markdown",
   "metadata": {},
   "source": [
    "I forgot an exclamation."
   ]
  },
  {
   "cell_type": "code",
   "execution_count": 4,
   "metadata": {
    "collapsed": false
   },
   "outputs": [
    {
     "name": "stderr",
     "output_type": "stream",
     "text": [
      "'C:\\Program' is not recognized as an internal or external command,\n",
      "operable program or batch file.\n"
     ]
    }
   ],
   "source": [
    "!C:\\Program Files\\NCBI\\blast-2.6.0+\\bin\\blastp -query C:/Users/Katty/blastplus/proteins.fasta -db C:/Users/Katty/blastplus/db/pdbaa -out C:\\Users\\Katty\\Documents\\Roberts Lab\\Oyster\\proteins_blastp.txt\n",
    "            "
   ]
  },
  {
   "cell_type": "markdown",
   "metadata": {},
   "source": [
    "I need to add quotations around the specified paths."
   ]
  },
  {
   "cell_type": "code",
   "execution_count": 5,
   "metadata": {
    "collapsed": false
   },
   "outputs": [
    {
     "name": "stderr",
     "output_type": "stream",
     "text": [
      "Command line argument error: Argument \"out\". File is not accessible:  `C:\\Users\\Katty\\Documents\\Roberts Lab\\Oyster\\proteins_blastp.txt'\n"
     ]
    }
   ],
   "source": [
    "!\"C:\\Program Files\\NCBI\\blast-2.6.0+\\bin\\blastp\" -query \"C:/Users/Katty/blastplus/proteins.fasta\" -db \"C:/Users/Katty/blastplus/db/pdbaa\" -out \"C:\\Users\\Katty\\Documents\\Roberts Lab\\Oyster\\proteins_blastp.txt\""
   ]
  },
  {
   "cell_type": "markdown",
   "metadata": {},
   "source": [
    "I forgot I moved the file and specified the wrong location for 'out'."
   ]
  },
  {
   "cell_type": "code",
   "execution_count": 6,
   "metadata": {
    "collapsed": true
   },
   "outputs": [],
   "source": [
    "!\"C:\\Program Files\\NCBI\\blast-2.6.0+\\bin\\blastp\" -query \"C:/Users/Katty/blastplus/proteins.fasta\" -db \"C:/Users/Katty/blastplus/db/pdbaa\" -out \"C:\\Users\\Katty\\Documents\\Roberts Lab\\pacificoysterdata\\Oyster\\proteins_blastp.txt\""
   ]
  },
  {
   "cell_type": "markdown",
   "metadata": {},
   "source": [
    "Success!"
   ]
  }
 ],
 "metadata": {
  "kernelspec": {
   "display_name": "Python 3",
   "language": "python",
   "name": "python3"
  },
  "language_info": {
   "codemirror_mode": {
    "name": "ipython",
    "version": 3
   },
   "file_extension": ".py",
   "mimetype": "text/x-python",
   "name": "python",
   "nbconvert_exporter": "python",
   "pygments_lexer": "ipython3",
   "version": "3.6.0"
  }
 },
 "nbformat": 4,
 "nbformat_minor": 2
}
