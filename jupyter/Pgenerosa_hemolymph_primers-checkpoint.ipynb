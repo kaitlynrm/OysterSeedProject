{
 "cells": [
  {
   "cell_type": "markdown",
   "metadata": {},
   "source": [
    "# Download packages"
   ]
  },
  {
   "cell_type": "code",
   "execution_count": 1,
   "metadata": {},
   "outputs": [
    {
     "name": "stdout",
     "output_type": "stream",
     "text": [
      "/mnt/c/Users/Katty\n"
     ]
    }
   ],
   "source": [
    "cd"
   ]
  },
  {
   "cell_type": "code",
   "execution_count": 2,
   "metadata": {},
   "outputs": [
    {
     "name": "stdout",
     "output_type": "stream",
     "text": [
      "/mnt/c/Users/Katty/Documents/linux_programs\n"
     ]
    }
   ],
   "source": [
    "cd Documents/linux_programs/\n",
    "\n"
   ]
  },
  {
   "cell_type": "markdown",
   "metadata": {},
   "source": [
    "## Root user"
   ]
  },
  {
   "cell_type": "markdown",
   "metadata": {},
   "source": [
    "First, I am downloading `pyfaidx`. I noticed that the install command said I should use --user if I am not root. I wanted to try and check which user was root."
   ]
  },
  {
   "cell_type": "code",
   "execution_count": 11,
   "metadata": {},
   "outputs": [],
   "source": [
    "less /etc/passwd"
   ]
  },
  {
   "cell_type": "markdown",
   "metadata": {},
   "source": [
    "list the content of the /etc/passwd file; shows all created users\n",
    "\n",
    "*katty:x:1000:1000:,,,:/mnt/c/Users/Katty/:/bin/bash*\n",
    "*root:x:0:0:root:/root:/bin/bash*"
   ]
  },
  {
   "cell_type": "code",
   "execution_count": 12,
   "metadata": {},
   "outputs": [
    {
     "ename": "SyntaxError",
     "evalue": "illegal target for annotation (<ipython-input-12-62e60b822a03>, line 1)",
     "output_type": "error",
     "traceback": [
      "\u001b[0;36m  File \u001b[0;32m\"<ipython-input-12-62e60b822a03>\"\u001b[0;36m, line \u001b[0;32m1\u001b[0m\n\u001b[0;31m    awk -F: '{ print $1}' /etc/passwd\u001b[0m\n\u001b[0m                                     ^\u001b[0m\n\u001b[0;31mSyntaxError\u001b[0m\u001b[0;31m:\u001b[0m illegal target for annotation\n"
     ]
    }
   ],
   "source": [
    "awk -F: '{ print $1}' /etc/passwd"
   ]
  },
  {
   "cell_type": "markdown",
   "metadata": {},
   "source": [
    "Tried to output only users, but for some reason this didn't work.\n",
    "\n",
    "I started doing more digging, and [this](https://unix.stackexchange.com/questions/291454/difference-between-sudo-user-and-root-user) helped me understand sudo and root users. So, I am going to move forward and try to install `pyfaidx` without denoting `--user` and see what happens."
   ]
  },
  {
   "cell_type": "markdown",
   "metadata": {},
   "source": [
    "## Install [`pyfaidx`](https://pypi.org/project/pyfaidx/)"
   ]
  },
  {
   "cell_type": "code",
   "execution_count": 13,
   "metadata": {},
   "outputs": [
    {
     "ename": "SyntaxError",
     "evalue": "invalid syntax (<ipython-input-13-ea0bde4d2b96>, line 1)",
     "output_type": "error",
     "traceback": [
      "\u001b[0;36m  File \u001b[0;32m\"<ipython-input-13-ea0bde4d2b96>\"\u001b[0;36m, line \u001b[0;32m1\u001b[0m\n\u001b[0;31m    pip install pyfaidx\u001b[0m\n\u001b[0m              ^\u001b[0m\n\u001b[0;31mSyntaxError\u001b[0m\u001b[0;31m:\u001b[0m invalid syntax\n"
     ]
    }
   ],
   "source": [
    "pip install pyfaidx"
   ]
  },
  {
   "cell_type": "markdown",
   "metadata": {},
   "source": [
    "Not sure why this isn't working in jupyter- probably because it is not a compatible language... I ran it in the shell and got:\n",
    "\n",
    "Collecting pyfaidx\n",
    "  Downloading https://files.pythonhosted.org/packages/cf/2f/997a14aa3505c86c081262fadf4e4f2f4d5eadb751c9d8ac94845ddc11ad/pyfaidx-0.5.7.tar.gz\n",
    "Requirement already satisfied: setuptools>=0.7 in /usr/lib/python3/dist-packages (from pyfaidx) (39.0.1)\n",
    "Requirement already satisfied: six in /usr/lib/python3/dist-packages (from pyfaidx) (1.11.0)\n",
    "Building wheels for collected packages: pyfaidx\n",
    "  Building wheel for pyfaidx (setup.py) ... done\n",
    "  Stored in directory: /mnt/c/Users/Katty/.cache/pip/wheels/7f/19/db/c08c42484104ce7b4875e2e8452fe22c913e387df775df81b2\n",
    "Successfully built pyfaidx\n",
    "Installing collected packages: pyfaidx\n",
    "Could not install packages due to an EnvironmentError: [Errno 13] Permission denied: '/usr/local/lib/python3.6/dist-packages/pyfaidx'\n",
    "Consider using the `--user` option or check the permissions.\n",
    "\n",
    "You are using pip version 19.0.3, however version 19.3.1 is available.\n",
    "You should consider upgrading via the 'pip install --upgrade pip' command."
   ]
  },
  {
   "cell_type": "markdown",
   "metadata": {},
   "source": [
    "I decided to check if pyfaidx was already installed based on `You are using pip version 19.0.3, however version 19.3.1 is available.\n",
    "You should consider upgrading via the 'pip install --upgrade pip' command.`"
   ]
  },
  {
   "cell_type": "code",
   "execution_count": 15,
   "metadata": {},
   "outputs": [
    {
     "ename": "SyntaxError",
     "evalue": "invalid syntax (<ipython-input-15-352900fb1661>, line 1)",
     "output_type": "error",
     "traceback": [
      "\u001b[0;36m  File \u001b[0;32m\"<ipython-input-15-352900fb1661>\"\u001b[0;36m, line \u001b[0;32m1\u001b[0m\n\u001b[0;31m    apt-cache policy pyfaidx\u001b[0m\n\u001b[0m                   ^\u001b[0m\n\u001b[0;31mSyntaxError\u001b[0m\u001b[0;31m:\u001b[0m invalid syntax\n"
     ]
    }
   ],
   "source": [
    "apt-cache policy pyfaidx"
   ]
  },
  {
   "cell_type": "markdown",
   "metadata": {},
   "source": [
    "When run in terminal: `N: Unable to locate package pyfaidx`\n",
    "\n",
    "So, I don't think I have this isntalled. I will re-run the installation command with `--user`."
   ]
  },
  {
   "cell_type": "code",
   "execution_count": null,
   "metadata": {},
   "outputs": [],
   "source": [
    "pip install pyfaidx --user #ran in terminal"
   ]
  },
  {
   "cell_type": "markdown",
   "metadata": {},
   "source": [
    "`Collecting pyfaidx\n",
    "Requirement already satisfied: six in /usr/lib/python3/dist-packages (from pyfaidx) (1.11.0)\n",
    "Requirement already satisfied: setuptools>=0.7 in /usr/lib/python3/dist-packages (from pyfaidx) (39.0.1)\n",
    "Installing collected packages: pyfaidx\n",
    "  The script faidx is installed in '/mnt/c/Users/Katty/.local/bin' which is not on PATH.\n",
    "  Consider adding this directory to PATH or, if you prefer to suppress this warning, use --no-warn-script-location.\n",
    "Successfully installed pyfaidx-0.5.7\n",
    "You are using pip version 19.0.3, however version 19.3.1 is available.\n",
    "You should consider upgrading via the 'pip install --upgrade pip' command.`\n",
    "\n",
    "I didn't upgrade, but may want to consider in the future."
   ]
  },
  {
   "cell_type": "markdown",
   "metadata": {},
   "source": [
    "## Install [`Primer3`](https://pypi.org/project/primer3-py/)"
   ]
  },
  {
   "cell_type": "markdown",
   "metadata": {},
   "source": [
    "`pip install primer3-py --user`\n",
    "\n",
    "Collecting primer3-py\n",
    "  Downloading https://files.pythonhosted.org/packages/7b/f4/c47952f5db5a0289e2dc056130e4304bb16bf0de9fb2d0c091f385094bfc/primer3-py-0.6.0.tar.gz (400kB)\n",
    "    100% |████████████████████████████████| 409kB 1.5MB/s\n",
    "Building wheels for collected packages: primer3-py\n",
    "  Building wheel for primer3-py (setup.py) ... done\n",
    "  Stored in directory: /mnt/c/Users/Katty/.cache/pip/wheels/d0/a5/2f/e3e39b4d52e55e9a9d4565a3d5a5c175afec23e6ddcec905bd\n",
    "Successfully built primer3-py\n",
    "Installing collected packages: primer3-py\n",
    "Successfully installed primer3-py-0.6.0\n",
    "You are using pip version 19.0.3, however version 19.3.1 is available.\n",
    "You should consider upgrading via the 'pip install --upgrade pip' command."
   ]
  },
  {
   "cell_type": "markdown",
   "metadata": {},
   "source": [
    "## Install [`EMBOSS`](http://emboss.sourceforge.net/download/)"
   ]
  },
  {
   "cell_type": "markdown",
   "metadata": {},
   "source": [
    "I thought [these instructions](http://emboss.open-bio.org/html/use/ch02s07.html) were more clear so I followed them."
   ]
  },
  {
   "cell_type": "code",
   "execution_count": null,
   "metadata": {},
   "outputs": [],
   "source": []
  }
 ],
 "metadata": {
  "kernelspec": {
   "display_name": "Python 3",
   "language": "python",
   "name": "python3"
  },
  "language_info": {
   "codemirror_mode": {
    "name": "ipython",
    "version": 3
   },
   "file_extension": ".py",
   "mimetype": "text/x-python",
   "name": "python",
   "nbconvert_exporter": "python",
   "pygments_lexer": "ipython3",
   "version": "3.6.7"
  }
 },
 "nbformat": 4,
 "nbformat_minor": 2
}
