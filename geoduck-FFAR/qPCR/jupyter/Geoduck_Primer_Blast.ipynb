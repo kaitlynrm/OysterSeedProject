{
 "cells": [
  {
   "cell_type": "markdown",
   "metadata": {},
   "source": [
    "## Make Blast Database"
   ]
  },
  {
   "cell_type": "code",
   "execution_count": 9,
   "metadata": {},
   "outputs": [
    {
     "name": "stdout",
     "output_type": "stream",
     "text": [
      "\n",
      "\n",
      "Building a new DB, current time: 01/08/2020 15:22:28\n",
      "New DB name:   /mnt/c/Users/Katty/Documents/robertslab/work/FFAR-geoduck/geoduck-transcriptomes/transcriptome_db_001\n",
      "New DB title:  /mnt/c/Users/Katty/Documents/robertslab/work/FFAR-geoduck/geoduck-transcriptomes/Geoduck-transcriptome-v2.fasta/Geoduck-transcriptome-v2.fasta\n",
      "Sequence type: Nucleotide\n",
      "Keep MBits: T\n",
      "Maximum file size: 1000000000B\n",
      "Adding sequences from FASTA; added 154407 sequences in 4.55184 seconds.\n",
      "\n",
      "\n"
     ]
    }
   ],
   "source": [
    "!/mnt/c/Users/Katty/Documents/linux_programs/Blast/ncbi-blast-2.10.0+/bin/makeblastdb \\\n",
    "-in /mnt/c/Users/Katty/Documents/robertslab/work/FFAR-geoduck/geoduck-transcriptomes/Geoduck-transcriptome-v2.fasta/Geoduck-transcriptome-v2.fasta \\\n",
    "-dbtype \"nucl\" \\\n",
    "-out /mnt/c/Users/Katty/Documents/robertslab/work/FFAR-geoduck/geoduck-transcriptomes/transcriptome_db_001"
   ]
  },
  {
   "cell_type": "markdown",
   "metadata": {},
   "source": [
    "## Blast"
   ]
  },
  {
   "cell_type": "code",
   "execution_count": null,
   "metadata": {},
   "outputs": [],
   "source": []
  }
 ],
 "metadata": {
  "kernelspec": {
   "display_name": "Python 3",
   "language": "python",
   "name": "python3"
  },
  "language_info": {
   "codemirror_mode": {
    "name": "ipython",
    "version": 3
   },
   "file_extension": ".py",
   "mimetype": "text/x-python",
   "name": "python",
   "nbconvert_exporter": "python",
   "pygments_lexer": "ipython3",
   "version": "3.6.7"
  }
 },
 "nbformat": 4,
 "nbformat_minor": 2
}
